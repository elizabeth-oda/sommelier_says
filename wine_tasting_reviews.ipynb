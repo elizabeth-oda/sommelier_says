{
  "cells": [
    {
      "cell_type": "code",
      "source": [
        "from google.colab import drive\n",
        "drive.mount('/content/drive')"
      ],
      "metadata": {
        "colab": {
          "base_uri": "https://localhost:8080/"
        },
        "id": "wIesZmGIqiXE",
        "outputId": "4ee7e825-0f5e-48a2-a7ab-e3a26700e435"
      },
      "id": "wIesZmGIqiXE",
      "execution_count": 2,
      "outputs": [
        {
          "output_type": "stream",
          "name": "stdout",
          "text": [
            "Drive already mounted at /content/drive; to attempt to forcibly remount, call drive.mount(\"/content/drive\", force_remount=True).\n"
          ]
        }
      ]
    },
    {
      "cell_type": "code",
      "execution_count": 3,
      "id": "3b83ba85",
      "metadata": {
        "id": "3b83ba85"
      },
      "outputs": [],
      "source": [
        "# Data preprocessing and visualization\n",
        "import pandas as pd\n",
        "import numpy as np\n",
        "import matplotlib.pyplot as plt\n",
        "import seaborn as sns\n",
        "import plotly.express as px\n",
        "\n",
        "# Regression analysis\n",
        "from sklearn.preprocessing import RobustScaler\n",
        "from sklearn.linear_model import LinearRegression\n",
        "from sklearn.model_selection import train_test_split\n",
        "\n",
        "# Natural language processing\n",
        "import string\n",
        "from nltk.corpus import stopwords \n",
        "from nltk import word_tokenize\n",
        "from sklearn.feature_extraction.text import CountVectorizer\n",
        "from sklearn.decomposition import LatentDirichletAllocation\n",
        "\n",
        "from tensorflow.keras.preprocessing.text import text_to_word_sequence\n",
        "from gensim.models import Word2Vec"
      ]
    },
    {
      "cell_type": "markdown",
      "id": "81de35cf",
      "metadata": {
        "id": "81de35cf"
      },
      "source": [
        "## Prepare the dataset"
      ]
    },
    {
      "cell_type": "markdown",
      "id": "7131068c",
      "metadata": {
        "id": "7131068c"
      },
      "source": [
        "We'll use the Wine Tasting dataset [available on Kaggle](https://www.kaggle.com/mysarahmadbhat/wine-tasting)"
      ]
    },
    {
      "cell_type": "code",
      "execution_count": 4,
      "id": "0ef15efd",
      "metadata": {
        "id": "0ef15efd"
      },
      "outputs": [],
      "source": [
        "# Adjust path\n",
        "df = pd.read_csv('/content/drive/MyDrive/Colab Notebooks/wine_prices/winemag-data-130k-v2.csv')"
      ]
    },
    {
      "cell_type": "code",
      "execution_count": 5,
      "id": "f448f59c",
      "metadata": {
        "colab": {
          "base_uri": "https://localhost:8080/",
          "height": 493
        },
        "id": "f448f59c",
        "outputId": "7ce47d8a-5dc2-4176-ef62-e6a67758adc0"
      },
      "outputs": [
        {
          "output_type": "execute_result",
          "data": {
            "text/html": [
              "\n",
              "  <div id=\"df-fca1ee6a-7981-4646-aa4d-a5cf00b939e9\">\n",
              "    <div class=\"colab-df-container\">\n",
              "      <div>\n",
              "<style scoped>\n",
              "    .dataframe tbody tr th:only-of-type {\n",
              "        vertical-align: middle;\n",
              "    }\n",
              "\n",
              "    .dataframe tbody tr th {\n",
              "        vertical-align: top;\n",
              "    }\n",
              "\n",
              "    .dataframe thead th {\n",
              "        text-align: right;\n",
              "    }\n",
              "</style>\n",
              "<table border=\"1\" class=\"dataframe\">\n",
              "  <thead>\n",
              "    <tr style=\"text-align: right;\">\n",
              "      <th></th>\n",
              "      <th>id</th>\n",
              "      <th>country</th>\n",
              "      <th>description</th>\n",
              "      <th>designation</th>\n",
              "      <th>points</th>\n",
              "      <th>price</th>\n",
              "      <th>province</th>\n",
              "      <th>region_1</th>\n",
              "      <th>region_2</th>\n",
              "      <th>taster_name</th>\n",
              "      <th>taster_twitter_handle</th>\n",
              "      <th>title</th>\n",
              "      <th>variety</th>\n",
              "      <th>winery</th>\n",
              "    </tr>\n",
              "  </thead>\n",
              "  <tbody>\n",
              "    <tr>\n",
              "      <th>0</th>\n",
              "      <td>0</td>\n",
              "      <td>Italy</td>\n",
              "      <td>Aromas include tropical fruit, broom, brimston...</td>\n",
              "      <td>Vulkà Bianco</td>\n",
              "      <td>87</td>\n",
              "      <td>NaN</td>\n",
              "      <td>Sicily &amp; Sardinia</td>\n",
              "      <td>Etna</td>\n",
              "      <td>NaN</td>\n",
              "      <td>Kerin O’Keefe</td>\n",
              "      <td>@kerinokeefe</td>\n",
              "      <td>Nicosia 2013 Vulkà Bianco  (Etna)</td>\n",
              "      <td>White Blend</td>\n",
              "      <td>Nicosia</td>\n",
              "    </tr>\n",
              "    <tr>\n",
              "      <th>1</th>\n",
              "      <td>1</td>\n",
              "      <td>Portugal</td>\n",
              "      <td>This is ripe and fruity, a wine that is smooth...</td>\n",
              "      <td>Avidagos</td>\n",
              "      <td>87</td>\n",
              "      <td>15.0</td>\n",
              "      <td>Douro</td>\n",
              "      <td>NaN</td>\n",
              "      <td>NaN</td>\n",
              "      <td>Roger Voss</td>\n",
              "      <td>@vossroger</td>\n",
              "      <td>Quinta dos Avidagos 2011 Avidagos Red (Douro)</td>\n",
              "      <td>Portuguese Red</td>\n",
              "      <td>Quinta dos Avidagos</td>\n",
              "    </tr>\n",
              "    <tr>\n",
              "      <th>2</th>\n",
              "      <td>2</td>\n",
              "      <td>US</td>\n",
              "      <td>Tart and snappy, the flavors of lime flesh and...</td>\n",
              "      <td>NaN</td>\n",
              "      <td>87</td>\n",
              "      <td>14.0</td>\n",
              "      <td>Oregon</td>\n",
              "      <td>Willamette Valley</td>\n",
              "      <td>Willamette Valley</td>\n",
              "      <td>Paul Gregutt</td>\n",
              "      <td>@paulgwine</td>\n",
              "      <td>Rainstorm 2013 Pinot Gris (Willamette Valley)</td>\n",
              "      <td>Pinot Gris</td>\n",
              "      <td>Rainstorm</td>\n",
              "    </tr>\n",
              "    <tr>\n",
              "      <th>3</th>\n",
              "      <td>3</td>\n",
              "      <td>US</td>\n",
              "      <td>Pineapple rind, lemon pith and orange blossom ...</td>\n",
              "      <td>Reserve Late Harvest</td>\n",
              "      <td>87</td>\n",
              "      <td>13.0</td>\n",
              "      <td>Michigan</td>\n",
              "      <td>Lake Michigan Shore</td>\n",
              "      <td>NaN</td>\n",
              "      <td>Alexander Peartree</td>\n",
              "      <td>NaN</td>\n",
              "      <td>St. Julian 2013 Reserve Late Harvest Riesling ...</td>\n",
              "      <td>Riesling</td>\n",
              "      <td>St. Julian</td>\n",
              "    </tr>\n",
              "    <tr>\n",
              "      <th>4</th>\n",
              "      <td>4</td>\n",
              "      <td>US</td>\n",
              "      <td>Much like the regular bottling from 2012, this...</td>\n",
              "      <td>Vintner's Reserve Wild Child Block</td>\n",
              "      <td>87</td>\n",
              "      <td>65.0</td>\n",
              "      <td>Oregon</td>\n",
              "      <td>Willamette Valley</td>\n",
              "      <td>Willamette Valley</td>\n",
              "      <td>Paul Gregutt</td>\n",
              "      <td>@paulgwine</td>\n",
              "      <td>Sweet Cheeks 2012 Vintner's Reserve Wild Child...</td>\n",
              "      <td>Pinot Noir</td>\n",
              "      <td>Sweet Cheeks</td>\n",
              "    </tr>\n",
              "  </tbody>\n",
              "</table>\n",
              "</div>\n",
              "      <button class=\"colab-df-convert\" onclick=\"convertToInteractive('df-fca1ee6a-7981-4646-aa4d-a5cf00b939e9')\"\n",
              "              title=\"Convert this dataframe to an interactive table.\"\n",
              "              style=\"display:none;\">\n",
              "        \n",
              "  <svg xmlns=\"http://www.w3.org/2000/svg\" height=\"24px\"viewBox=\"0 0 24 24\"\n",
              "       width=\"24px\">\n",
              "    <path d=\"M0 0h24v24H0V0z\" fill=\"none\"/>\n",
              "    <path d=\"M18.56 5.44l.94 2.06.94-2.06 2.06-.94-2.06-.94-.94-2.06-.94 2.06-2.06.94zm-11 1L8.5 8.5l.94-2.06 2.06-.94-2.06-.94L8.5 2.5l-.94 2.06-2.06.94zm10 10l.94 2.06.94-2.06 2.06-.94-2.06-.94-.94-2.06-.94 2.06-2.06.94z\"/><path d=\"M17.41 7.96l-1.37-1.37c-.4-.4-.92-.59-1.43-.59-.52 0-1.04.2-1.43.59L10.3 9.45l-7.72 7.72c-.78.78-.78 2.05 0 2.83L4 21.41c.39.39.9.59 1.41.59.51 0 1.02-.2 1.41-.59l7.78-7.78 2.81-2.81c.8-.78.8-2.07 0-2.86zM5.41 20L4 18.59l7.72-7.72 1.47 1.35L5.41 20z\"/>\n",
              "  </svg>\n",
              "      </button>\n",
              "      \n",
              "  <style>\n",
              "    .colab-df-container {\n",
              "      display:flex;\n",
              "      flex-wrap:wrap;\n",
              "      gap: 12px;\n",
              "    }\n",
              "\n",
              "    .colab-df-convert {\n",
              "      background-color: #E8F0FE;\n",
              "      border: none;\n",
              "      border-radius: 50%;\n",
              "      cursor: pointer;\n",
              "      display: none;\n",
              "      fill: #1967D2;\n",
              "      height: 32px;\n",
              "      padding: 0 0 0 0;\n",
              "      width: 32px;\n",
              "    }\n",
              "\n",
              "    .colab-df-convert:hover {\n",
              "      background-color: #E2EBFA;\n",
              "      box-shadow: 0px 1px 2px rgba(60, 64, 67, 0.3), 0px 1px 3px 1px rgba(60, 64, 67, 0.15);\n",
              "      fill: #174EA6;\n",
              "    }\n",
              "\n",
              "    [theme=dark] .colab-df-convert {\n",
              "      background-color: #3B4455;\n",
              "      fill: #D2E3FC;\n",
              "    }\n",
              "\n",
              "    [theme=dark] .colab-df-convert:hover {\n",
              "      background-color: #434B5C;\n",
              "      box-shadow: 0px 1px 3px 1px rgba(0, 0, 0, 0.15);\n",
              "      filter: drop-shadow(0px 1px 2px rgba(0, 0, 0, 0.3));\n",
              "      fill: #FFFFFF;\n",
              "    }\n",
              "  </style>\n",
              "\n",
              "      <script>\n",
              "        const buttonEl =\n",
              "          document.querySelector('#df-fca1ee6a-7981-4646-aa4d-a5cf00b939e9 button.colab-df-convert');\n",
              "        buttonEl.style.display =\n",
              "          google.colab.kernel.accessAllowed ? 'block' : 'none';\n",
              "\n",
              "        async function convertToInteractive(key) {\n",
              "          const element = document.querySelector('#df-fca1ee6a-7981-4646-aa4d-a5cf00b939e9');\n",
              "          const dataTable =\n",
              "            await google.colab.kernel.invokeFunction('convertToInteractive',\n",
              "                                                     [key], {});\n",
              "          if (!dataTable) return;\n",
              "\n",
              "          const docLinkHtml = 'Like what you see? Visit the ' +\n",
              "            '<a target=\"_blank\" href=https://colab.research.google.com/notebooks/data_table.ipynb>data table notebook</a>'\n",
              "            + ' to learn more about interactive tables.';\n",
              "          element.innerHTML = '';\n",
              "          dataTable['output_type'] = 'display_data';\n",
              "          await google.colab.output.renderOutput(dataTable, element);\n",
              "          const docLink = document.createElement('div');\n",
              "          docLink.innerHTML = docLinkHtml;\n",
              "          element.appendChild(docLink);\n",
              "        }\n",
              "      </script>\n",
              "    </div>\n",
              "  </div>\n",
              "  "
            ],
            "text/plain": [
              "   id   country  ...         variety               winery\n",
              "0   0     Italy  ...     White Blend              Nicosia\n",
              "1   1  Portugal  ...  Portuguese Red  Quinta dos Avidagos\n",
              "2   2        US  ...      Pinot Gris            Rainstorm\n",
              "3   3        US  ...        Riesling           St. Julian\n",
              "4   4        US  ...      Pinot Noir         Sweet Cheeks\n",
              "\n",
              "[5 rows x 14 columns]"
            ]
          },
          "metadata": {},
          "execution_count": 5
        }
      ],
      "source": [
        "df.head()"
      ]
    },
    {
      "cell_type": "markdown",
      "id": "e4c50659",
      "metadata": {
        "id": "e4c50659"
      },
      "source": [
        "### Preprocess and clean data"
      ]
    },
    {
      "cell_type": "markdown",
      "id": "88e7a430",
      "metadata": {
        "id": "88e7a430"
      },
      "source": [
        "#### Replace null strings with 'None'"
      ]
    },
    {
      "cell_type": "code",
      "execution_count": 6,
      "id": "b199d51c",
      "metadata": {
        "colab": {
          "base_uri": "https://localhost:8080/"
        },
        "id": "b199d51c",
        "outputId": "95136ec3-f155-4388-bbfb-0f97fbb1f50c"
      },
      "outputs": [
        {
          "output_type": "stream",
          "name": "stdout",
          "text": [
            "The shape is (129971, 14)\n",
            "\n",
            "<class 'pandas.core.frame.DataFrame'>\n",
            "RangeIndex: 129971 entries, 0 to 129970\n",
            "Data columns (total 14 columns):\n",
            " #   Column                 Non-Null Count   Dtype  \n",
            "---  ------                 --------------   -----  \n",
            " 0   id                     129971 non-null  int64  \n",
            " 1   country                129908 non-null  object \n",
            " 2   description            129971 non-null  object \n",
            " 3   designation            92506 non-null   object \n",
            " 4   points                 129971 non-null  int64  \n",
            " 5   price                  120975 non-null  float64\n",
            " 6   province               129908 non-null  object \n",
            " 7   region_1               108724 non-null  object \n",
            " 8   region_2               50511 non-null   object \n",
            " 9   taster_name            103727 non-null  object \n",
            " 10  taster_twitter_handle  98758 non-null   object \n",
            " 11  title                  129971 non-null  object \n",
            " 12  variety                129970 non-null  object \n",
            " 13  winery                 129971 non-null  object \n",
            "dtypes: float64(1), int64(2), object(11)\n",
            "memory usage: 13.9+ MB\n"
          ]
        }
      ],
      "source": [
        "print(f'The shape is {df.shape}\\n')\n",
        "df.info()"
      ]
    },
    {
      "cell_type": "code",
      "execution_count": 7,
      "id": "7fa66154",
      "metadata": {
        "id": "7fa66154"
      },
      "outputs": [],
      "source": [
        "# Drop rows where the country or variety is null\n",
        "df = df.dropna(subset=['country','variety'])"
      ]
    },
    {
      "cell_type": "code",
      "execution_count": 8,
      "id": "73291b44",
      "metadata": {
        "id": "73291b44",
        "colab": {
          "base_uri": "https://localhost:8080/"
        },
        "outputId": "db9a6f85-dae5-4f7b-a195-3410eb40f097"
      },
      "outputs": [
        {
          "output_type": "stream",
          "name": "stderr",
          "text": [
            "/usr/local/lib/python3.7/dist-packages/ipykernel_launcher.py:8: SettingWithCopyWarning: \n",
            "A value is trying to be set on a copy of a slice from a DataFrame.\n",
            "Try using .loc[row_indexer,col_indexer] = value instead\n",
            "\n",
            "See the caveats in the documentation: https://pandas.pydata.org/pandas-docs/stable/user_guide/indexing.html#returning-a-view-versus-a-copy\n",
            "  \n"
          ]
        }
      ],
      "source": [
        "# Replace null strings with 'None'\n",
        "replace_nan = ['designation',\n",
        "               'region_1',\n",
        "               'region_2',\n",
        "               'taster_name',\n",
        "               'taster_twitter_handle']\n",
        "for col in replace_nan:\n",
        "    df[col] = df[col].replace(np.nan, 'None')"
      ]
    },
    {
      "cell_type": "markdown",
      "id": "4a240a74",
      "metadata": {
        "id": "4a240a74"
      },
      "source": [
        "#### Replace missing prices with the mean for their country"
      ]
    },
    {
      "cell_type": "code",
      "execution_count": 9,
      "id": "2ecda37f",
      "metadata": {
        "colab": {
          "base_uri": "https://localhost:8080/"
        },
        "id": "2ecda37f",
        "outputId": "142fc7d6-8955-4718-e39c-abf3ad63c401"
      },
      "outputs": [
        {
          "output_type": "execute_result",
          "data": {
            "text/plain": [
              "6.921874879721647"
            ]
          },
          "metadata": {},
          "execution_count": 9
        }
      ],
      "source": [
        "# Determine the percentage of missing prices\n",
        "(df['price'].isna().sum() / df['price'].shape[0]) * 100"
      ]
    },
    {
      "cell_type": "code",
      "execution_count": 10,
      "id": "a03f38b8",
      "metadata": {
        "colab": {
          "base_uri": "https://localhost:8080/",
          "height": 237
        },
        "id": "a03f38b8",
        "outputId": "d2f7e132-043d-4a09-864a-ca7a967448e2"
      },
      "outputs": [
        {
          "output_type": "execute_result",
          "data": {
            "text/html": [
              "\n",
              "  <div id=\"df-fd5479d6-3f6a-4326-8507-4874939fd441\">\n",
              "    <div class=\"colab-df-container\">\n",
              "      <div>\n",
              "<style scoped>\n",
              "    .dataframe tbody tr th:only-of-type {\n",
              "        vertical-align: middle;\n",
              "    }\n",
              "\n",
              "    .dataframe tbody tr th {\n",
              "        vertical-align: top;\n",
              "    }\n",
              "\n",
              "    .dataframe thead th {\n",
              "        text-align: right;\n",
              "    }\n",
              "</style>\n",
              "<table border=\"1\" class=\"dataframe\">\n",
              "  <thead>\n",
              "    <tr style=\"text-align: right;\">\n",
              "      <th></th>\n",
              "      <th>price</th>\n",
              "    </tr>\n",
              "    <tr>\n",
              "      <th>country</th>\n",
              "      <th></th>\n",
              "    </tr>\n",
              "  </thead>\n",
              "  <tbody>\n",
              "    <tr>\n",
              "      <th>Argentina</th>\n",
              "      <td>24.510117</td>\n",
              "    </tr>\n",
              "    <tr>\n",
              "      <th>Armenia</th>\n",
              "      <td>14.500000</td>\n",
              "    </tr>\n",
              "    <tr>\n",
              "      <th>Australia</th>\n",
              "      <td>35.437663</td>\n",
              "    </tr>\n",
              "    <tr>\n",
              "      <th>Austria</th>\n",
              "      <td>30.762772</td>\n",
              "    </tr>\n",
              "    <tr>\n",
              "      <th>Bosnia and Herzegovina</th>\n",
              "      <td>12.500000</td>\n",
              "    </tr>\n",
              "  </tbody>\n",
              "</table>\n",
              "</div>\n",
              "      <button class=\"colab-df-convert\" onclick=\"convertToInteractive('df-fd5479d6-3f6a-4326-8507-4874939fd441')\"\n",
              "              title=\"Convert this dataframe to an interactive table.\"\n",
              "              style=\"display:none;\">\n",
              "        \n",
              "  <svg xmlns=\"http://www.w3.org/2000/svg\" height=\"24px\"viewBox=\"0 0 24 24\"\n",
              "       width=\"24px\">\n",
              "    <path d=\"M0 0h24v24H0V0z\" fill=\"none\"/>\n",
              "    <path d=\"M18.56 5.44l.94 2.06.94-2.06 2.06-.94-2.06-.94-.94-2.06-.94 2.06-2.06.94zm-11 1L8.5 8.5l.94-2.06 2.06-.94-2.06-.94L8.5 2.5l-.94 2.06-2.06.94zm10 10l.94 2.06.94-2.06 2.06-.94-2.06-.94-.94-2.06-.94 2.06-2.06.94z\"/><path d=\"M17.41 7.96l-1.37-1.37c-.4-.4-.92-.59-1.43-.59-.52 0-1.04.2-1.43.59L10.3 9.45l-7.72 7.72c-.78.78-.78 2.05 0 2.83L4 21.41c.39.39.9.59 1.41.59.51 0 1.02-.2 1.41-.59l7.78-7.78 2.81-2.81c.8-.78.8-2.07 0-2.86zM5.41 20L4 18.59l7.72-7.72 1.47 1.35L5.41 20z\"/>\n",
              "  </svg>\n",
              "      </button>\n",
              "      \n",
              "  <style>\n",
              "    .colab-df-container {\n",
              "      display:flex;\n",
              "      flex-wrap:wrap;\n",
              "      gap: 12px;\n",
              "    }\n",
              "\n",
              "    .colab-df-convert {\n",
              "      background-color: #E8F0FE;\n",
              "      border: none;\n",
              "      border-radius: 50%;\n",
              "      cursor: pointer;\n",
              "      display: none;\n",
              "      fill: #1967D2;\n",
              "      height: 32px;\n",
              "      padding: 0 0 0 0;\n",
              "      width: 32px;\n",
              "    }\n",
              "\n",
              "    .colab-df-convert:hover {\n",
              "      background-color: #E2EBFA;\n",
              "      box-shadow: 0px 1px 2px rgba(60, 64, 67, 0.3), 0px 1px 3px 1px rgba(60, 64, 67, 0.15);\n",
              "      fill: #174EA6;\n",
              "    }\n",
              "\n",
              "    [theme=dark] .colab-df-convert {\n",
              "      background-color: #3B4455;\n",
              "      fill: #D2E3FC;\n",
              "    }\n",
              "\n",
              "    [theme=dark] .colab-df-convert:hover {\n",
              "      background-color: #434B5C;\n",
              "      box-shadow: 0px 1px 3px 1px rgba(0, 0, 0, 0.15);\n",
              "      filter: drop-shadow(0px 1px 2px rgba(0, 0, 0, 0.3));\n",
              "      fill: #FFFFFF;\n",
              "    }\n",
              "  </style>\n",
              "\n",
              "      <script>\n",
              "        const buttonEl =\n",
              "          document.querySelector('#df-fd5479d6-3f6a-4326-8507-4874939fd441 button.colab-df-convert');\n",
              "        buttonEl.style.display =\n",
              "          google.colab.kernel.accessAllowed ? 'block' : 'none';\n",
              "\n",
              "        async function convertToInteractive(key) {\n",
              "          const element = document.querySelector('#df-fd5479d6-3f6a-4326-8507-4874939fd441');\n",
              "          const dataTable =\n",
              "            await google.colab.kernel.invokeFunction('convertToInteractive',\n",
              "                                                     [key], {});\n",
              "          if (!dataTable) return;\n",
              "\n",
              "          const docLinkHtml = 'Like what you see? Visit the ' +\n",
              "            '<a target=\"_blank\" href=https://colab.research.google.com/notebooks/data_table.ipynb>data table notebook</a>'\n",
              "            + ' to learn more about interactive tables.';\n",
              "          element.innerHTML = '';\n",
              "          dataTable['output_type'] = 'display_data';\n",
              "          await google.colab.output.renderOutput(dataTable, element);\n",
              "          const docLink = document.createElement('div');\n",
              "          docLink.innerHTML = docLinkHtml;\n",
              "          element.appendChild(docLink);\n",
              "        }\n",
              "      </script>\n",
              "    </div>\n",
              "  </div>\n",
              "  "
            ],
            "text/plain": [
              "                            price\n",
              "country                          \n",
              "Argentina               24.510117\n",
              "Armenia                 14.500000\n",
              "Australia               35.437663\n",
              "Austria                 30.762772\n",
              "Bosnia and Herzegovina  12.500000"
            ]
          },
          "metadata": {},
          "execution_count": 10
        }
      ],
      "source": [
        "# Calculate the mean price for each country\n",
        "df_avg = df[['country','price']]\n",
        "df_avg = df_avg.groupby(by='country').mean()\n",
        "df_avg.head()"
      ]
    },
    {
      "cell_type": "code",
      "execution_count": 11,
      "id": "6ee40178",
      "metadata": {
        "id": "6ee40178"
      },
      "outputs": [],
      "source": [
        "# Takes the average price from df_avg and replaces null prices in df\n",
        "# The .dropna() drops the one null value remaining\n",
        "df = df.set_index('country').combine_first(df_avg).reset_index().dropna()"
      ]
    },
    {
      "cell_type": "code",
      "execution_count": 12,
      "id": "b815e8ed",
      "metadata": {
        "colab": {
          "base_uri": "https://localhost:8080/",
          "height": 455
        },
        "id": "b815e8ed",
        "outputId": "56f29b69-4b34-4caf-acdb-87e308fa50a7"
      },
      "outputs": [
        {
          "output_type": "execute_result",
          "data": {
            "text/html": [
              "\n",
              "  <div id=\"df-eda53fe4-cabf-4756-82e4-90a6d448d3cf\">\n",
              "    <div class=\"colab-df-container\">\n",
              "      <div>\n",
              "<style scoped>\n",
              "    .dataframe tbody tr th:only-of-type {\n",
              "        vertical-align: middle;\n",
              "    }\n",
              "\n",
              "    .dataframe tbody tr th {\n",
              "        vertical-align: top;\n",
              "    }\n",
              "\n",
              "    .dataframe thead th {\n",
              "        text-align: right;\n",
              "    }\n",
              "</style>\n",
              "<table border=\"1\" class=\"dataframe\">\n",
              "  <thead>\n",
              "    <tr style=\"text-align: right;\">\n",
              "      <th></th>\n",
              "      <th>country</th>\n",
              "      <th>description</th>\n",
              "      <th>designation</th>\n",
              "      <th>points</th>\n",
              "      <th>price</th>\n",
              "      <th>province</th>\n",
              "      <th>region_1</th>\n",
              "      <th>region_2</th>\n",
              "      <th>taster_name</th>\n",
              "      <th>taster_twitter_handle</th>\n",
              "      <th>title</th>\n",
              "      <th>variety</th>\n",
              "      <th>winery</th>\n",
              "    </tr>\n",
              "    <tr>\n",
              "      <th>id</th>\n",
              "      <th></th>\n",
              "      <th></th>\n",
              "      <th></th>\n",
              "      <th></th>\n",
              "      <th></th>\n",
              "      <th></th>\n",
              "      <th></th>\n",
              "      <th></th>\n",
              "      <th></th>\n",
              "      <th></th>\n",
              "      <th></th>\n",
              "      <th></th>\n",
              "      <th></th>\n",
              "    </tr>\n",
              "  </thead>\n",
              "  <tbody>\n",
              "    <tr>\n",
              "      <th>16</th>\n",
              "      <td>Argentina</td>\n",
              "      <td>Baked plum, molasses, balsamic vinegar and che...</td>\n",
              "      <td>Felix</td>\n",
              "      <td>87</td>\n",
              "      <td>30.0</td>\n",
              "      <td>Other</td>\n",
              "      <td>Cafayate</td>\n",
              "      <td>None</td>\n",
              "      <td>Michael Schachner</td>\n",
              "      <td>@wineschach</td>\n",
              "      <td>Felix Lavaque 2010 Felix Malbec (Cafayate)</td>\n",
              "      <td>Malbec</td>\n",
              "      <td>Felix Lavaque</td>\n",
              "    </tr>\n",
              "    <tr>\n",
              "      <th>17</th>\n",
              "      <td>Argentina</td>\n",
              "      <td>Raw black-cherry aromas are direct and simple ...</td>\n",
              "      <td>Winemaker Selection</td>\n",
              "      <td>87</td>\n",
              "      <td>13.0</td>\n",
              "      <td>Mendoza Province</td>\n",
              "      <td>Mendoza</td>\n",
              "      <td>None</td>\n",
              "      <td>Michael Schachner</td>\n",
              "      <td>@wineschach</td>\n",
              "      <td>Gaucho Andino 2011 Winemaker Selection Malbec ...</td>\n",
              "      <td>Malbec</td>\n",
              "      <td>Gaucho Andino</td>\n",
              "    </tr>\n",
              "    <tr>\n",
              "      <th>183</th>\n",
              "      <td>Argentina</td>\n",
              "      <td>With attractive melon and other tropical aroma...</td>\n",
              "      <td>None</td>\n",
              "      <td>88</td>\n",
              "      <td>12.0</td>\n",
              "      <td>Other</td>\n",
              "      <td>Salta</td>\n",
              "      <td>None</td>\n",
              "      <td>Michael Schachner</td>\n",
              "      <td>@wineschach</td>\n",
              "      <td>Alamos 2007 Torrontés (Salta)</td>\n",
              "      <td>Torrontés</td>\n",
              "      <td>Alamos</td>\n",
              "    </tr>\n",
              "    <tr>\n",
              "      <th>224</th>\n",
              "      <td>Argentina</td>\n",
              "      <td>Blackberry and road-tar aromas are dark and st...</td>\n",
              "      <td>Lunta</td>\n",
              "      <td>90</td>\n",
              "      <td>22.0</td>\n",
              "      <td>Mendoza Province</td>\n",
              "      <td>Luján de Cuyo</td>\n",
              "      <td>None</td>\n",
              "      <td>Michael Schachner</td>\n",
              "      <td>@wineschach</td>\n",
              "      <td>Mendel 2014 Lunta Malbec (Luján de Cuyo)</td>\n",
              "      <td>Malbec</td>\n",
              "      <td>Mendel</td>\n",
              "    </tr>\n",
              "    <tr>\n",
              "      <th>231</th>\n",
              "      <td>Argentina</td>\n",
              "      <td>Meaty and rubbery, but that's young Bonarda. T...</td>\n",
              "      <td>None</td>\n",
              "      <td>85</td>\n",
              "      <td>10.0</td>\n",
              "      <td>Mendoza Province</td>\n",
              "      <td>Mendoza</td>\n",
              "      <td>None</td>\n",
              "      <td>Michael Schachner</td>\n",
              "      <td>@wineschach</td>\n",
              "      <td>Andean Sky 2007 Bonarda (Mendoza)</td>\n",
              "      <td>Bonarda</td>\n",
              "      <td>Andean Sky</td>\n",
              "    </tr>\n",
              "  </tbody>\n",
              "</table>\n",
              "</div>\n",
              "      <button class=\"colab-df-convert\" onclick=\"convertToInteractive('df-eda53fe4-cabf-4756-82e4-90a6d448d3cf')\"\n",
              "              title=\"Convert this dataframe to an interactive table.\"\n",
              "              style=\"display:none;\">\n",
              "        \n",
              "  <svg xmlns=\"http://www.w3.org/2000/svg\" height=\"24px\"viewBox=\"0 0 24 24\"\n",
              "       width=\"24px\">\n",
              "    <path d=\"M0 0h24v24H0V0z\" fill=\"none\"/>\n",
              "    <path d=\"M18.56 5.44l.94 2.06.94-2.06 2.06-.94-2.06-.94-.94-2.06-.94 2.06-2.06.94zm-11 1L8.5 8.5l.94-2.06 2.06-.94-2.06-.94L8.5 2.5l-.94 2.06-2.06.94zm10 10l.94 2.06.94-2.06 2.06-.94-2.06-.94-.94-2.06-.94 2.06-2.06.94z\"/><path d=\"M17.41 7.96l-1.37-1.37c-.4-.4-.92-.59-1.43-.59-.52 0-1.04.2-1.43.59L10.3 9.45l-7.72 7.72c-.78.78-.78 2.05 0 2.83L4 21.41c.39.39.9.59 1.41.59.51 0 1.02-.2 1.41-.59l7.78-7.78 2.81-2.81c.8-.78.8-2.07 0-2.86zM5.41 20L4 18.59l7.72-7.72 1.47 1.35L5.41 20z\"/>\n",
              "  </svg>\n",
              "      </button>\n",
              "      \n",
              "  <style>\n",
              "    .colab-df-container {\n",
              "      display:flex;\n",
              "      flex-wrap:wrap;\n",
              "      gap: 12px;\n",
              "    }\n",
              "\n",
              "    .colab-df-convert {\n",
              "      background-color: #E8F0FE;\n",
              "      border: none;\n",
              "      border-radius: 50%;\n",
              "      cursor: pointer;\n",
              "      display: none;\n",
              "      fill: #1967D2;\n",
              "      height: 32px;\n",
              "      padding: 0 0 0 0;\n",
              "      width: 32px;\n",
              "    }\n",
              "\n",
              "    .colab-df-convert:hover {\n",
              "      background-color: #E2EBFA;\n",
              "      box-shadow: 0px 1px 2px rgba(60, 64, 67, 0.3), 0px 1px 3px 1px rgba(60, 64, 67, 0.15);\n",
              "      fill: #174EA6;\n",
              "    }\n",
              "\n",
              "    [theme=dark] .colab-df-convert {\n",
              "      background-color: #3B4455;\n",
              "      fill: #D2E3FC;\n",
              "    }\n",
              "\n",
              "    [theme=dark] .colab-df-convert:hover {\n",
              "      background-color: #434B5C;\n",
              "      box-shadow: 0px 1px 3px 1px rgba(0, 0, 0, 0.15);\n",
              "      filter: drop-shadow(0px 1px 2px rgba(0, 0, 0, 0.3));\n",
              "      fill: #FFFFFF;\n",
              "    }\n",
              "  </style>\n",
              "\n",
              "      <script>\n",
              "        const buttonEl =\n",
              "          document.querySelector('#df-eda53fe4-cabf-4756-82e4-90a6d448d3cf button.colab-df-convert');\n",
              "        buttonEl.style.display =\n",
              "          google.colab.kernel.accessAllowed ? 'block' : 'none';\n",
              "\n",
              "        async function convertToInteractive(key) {\n",
              "          const element = document.querySelector('#df-eda53fe4-cabf-4756-82e4-90a6d448d3cf');\n",
              "          const dataTable =\n",
              "            await google.colab.kernel.invokeFunction('convertToInteractive',\n",
              "                                                     [key], {});\n",
              "          if (!dataTable) return;\n",
              "\n",
              "          const docLinkHtml = 'Like what you see? Visit the ' +\n",
              "            '<a target=\"_blank\" href=https://colab.research.google.com/notebooks/data_table.ipynb>data table notebook</a>'\n",
              "            + ' to learn more about interactive tables.';\n",
              "          element.innerHTML = '';\n",
              "          dataTable['output_type'] = 'display_data';\n",
              "          await google.colab.output.renderOutput(dataTable, element);\n",
              "          const docLink = document.createElement('div');\n",
              "          docLink.innerHTML = docLinkHtml;\n",
              "          element.appendChild(docLink);\n",
              "        }\n",
              "      </script>\n",
              "    </div>\n",
              "  </div>\n",
              "  "
            ],
            "text/plain": [
              "       country  ...         winery\n",
              "id              ...               \n",
              "16   Argentina  ...  Felix Lavaque\n",
              "17   Argentina  ...  Gaucho Andino\n",
              "183  Argentina  ...         Alamos\n",
              "224  Argentina  ...         Mendel\n",
              "231  Argentina  ...     Andean Sky\n",
              "\n",
              "[5 rows x 13 columns]"
            ]
          },
          "metadata": {},
          "execution_count": 12
        }
      ],
      "source": [
        "df = df.set_index('id')\n",
        "df.head()"
      ]
    },
    {
      "cell_type": "markdown",
      "id": "8ba41a5d",
      "metadata": {
        "id": "8ba41a5d"
      },
      "source": [
        "### Feature engineering"
      ]
    },
    {
      "cell_type": "markdown",
      "id": "bd83c584",
      "metadata": {
        "id": "bd83c584"
      },
      "source": [
        "#### Manual one-hot-encoding for new world vs. old world countries"
      ]
    },
    {
      "cell_type": "code",
      "execution_count": 13,
      "id": "73117648",
      "metadata": {
        "id": "73117648"
      },
      "outputs": [],
      "source": [
        "# Apologies for the long, ugly lists!\n",
        "# New world vs. old world classifications from Wine Folly\n",
        "new_world_list = [\n",
        "    'Argentina',\n",
        "    'Australia',\n",
        "    'Brazil',\n",
        "    'Canada',\n",
        "    'Chile',\n",
        "    'China',\n",
        "    'Egypt',\n",
        "    'India',\n",
        "    'Mexico',\n",
        "    'New Zealand',\n",
        "    'Peru',\n",
        "    'South Africa',\n",
        "    'US',\n",
        "    'Uruguay'\n",
        "]"
      ]
    },
    {
      "cell_type": "code",
      "execution_count": 14,
      "id": "59758b8a",
      "metadata": {
        "id": "59758b8a"
      },
      "outputs": [],
      "source": [
        "# Ancient world wines are grouped in with old world wines\n",
        "old_world_list = [\n",
        "    'Armenia',\n",
        "    'Austria',\n",
        "    'Bosnia and Herzegovina',\n",
        "    'Bulgaria',\n",
        "    'Croatia',\n",
        "    'Cyprus',\n",
        "    'Czech Republic',\n",
        "    'England',\n",
        "    'France',\n",
        "    'Georgia',\n",
        "    'Germany',\n",
        "    'Greece',\n",
        "    'Hungary',\n",
        "    'Israel',\n",
        "    'Italy',\n",
        "    'Lebanon',\n",
        "    'Luxembourg',\n",
        "    'Macedonia',\n",
        "    'Moldova',\n",
        "    'Morocco',\n",
        "    'Portugal',\n",
        "    'Romania',\n",
        "    'Serbia',\n",
        "    'Slovakia',\n",
        "    'Slovenia',\n",
        "    'Spain',\n",
        "    'Switzerland',\n",
        "    'Turkey',\n",
        "    'Ukraine'\n",
        "]    "
      ]
    },
    {
      "cell_type": "code",
      "execution_count": 15,
      "id": "97cbe93d",
      "metadata": {
        "id": "97cbe93d"
      },
      "outputs": [],
      "source": [
        "# Creates boolean masks for new world and old world countries\n",
        "df['new_world'] = df['country'].apply(lambda x: x in new_world_list)\n",
        "df['old_world'] = df['country'].apply(lambda x: x in old_world_list)"
      ]
    },
    {
      "cell_type": "markdown",
      "id": "af2496cb",
      "metadata": {
        "id": "af2496cb"
      },
      "source": [
        "## Exploratory data analysis"
      ]
    },
    {
      "cell_type": "code",
      "execution_count": 16,
      "id": "afbe30dc",
      "metadata": {
        "colab": {
          "base_uri": "https://localhost:8080/",
          "height": 270
        },
        "id": "afbe30dc",
        "outputId": "d06beeb9-3b7e-4eeb-8fc9-a3c96eb47dad"
      },
      "outputs": [
        {
          "output_type": "display_data",
          "data": {
            "image/png": "[encoded data removed]",
            "text/plain": [
              "<Figure size 360x288 with 2 Axes>"
            ]
          },
          "metadata": {
            "needs_background": "light"
          }
        }
      ],
      "source": [
        "plt.figure(figsize = (5,4))\n",
        "sns.heatmap(df.corr(), \n",
        "            cmap='coolwarm', \n",
        "            annot = True, \n",
        "            annot_kws={\"size\": 10});"
      ]
    },
    {
      "cell_type": "markdown",
      "id": "1ed72b3f",
      "metadata": {
        "id": "1ed72b3f"
      },
      "source": [
        "Initial takeaways:\n",
        "* Points is moderately correlated (0.4) with price\n",
        "* New_world has a very small negative correlation (-0.032) with price\n",
        "* Conversely, old_world has a very small positive correlation (0.032) with price"
      ]
    },
    {
      "cell_type": "code",
      "execution_count": 17,
      "id": "3163968e",
      "metadata": {
        "colab": {
          "base_uri": "https://localhost:8080/",
          "height": 206
        },
        "id": "3163968e",
        "outputId": "1d33cbf5-a9b6-43e9-be78-4d54c81da3a8"
      },
      "outputs": [
        {
          "output_type": "execute_result",
          "data": {
            "text/html": [
              "\n",
              "  <div id=\"df-e636a944-015a-4d63-a5cf-d7e368ef0a18\">\n",
              "    <div class=\"colab-df-container\">\n",
              "      <div>\n",
              "<style scoped>\n",
              "    .dataframe tbody tr th:only-of-type {\n",
              "        vertical-align: middle;\n",
              "    }\n",
              "\n",
              "    .dataframe tbody tr th {\n",
              "        vertical-align: top;\n",
              "    }\n",
              "\n",
              "    .dataframe thead th {\n",
              "        text-align: right;\n",
              "    }\n",
              "</style>\n",
              "<table border=\"1\" class=\"dataframe\">\n",
              "  <thead>\n",
              "    <tr style=\"text-align: right;\">\n",
              "      <th></th>\n",
              "      <th>country</th>\n",
              "      <th>points</th>\n",
              "      <th>price</th>\n",
              "      <th>new_world</th>\n",
              "      <th>old_world</th>\n",
              "      <th>count</th>\n",
              "    </tr>\n",
              "  </thead>\n",
              "  <tbody>\n",
              "    <tr>\n",
              "      <th>0</th>\n",
              "      <td>Argentina</td>\n",
              "      <td>86.710263</td>\n",
              "      <td>24.510117</td>\n",
              "      <td>True</td>\n",
              "      <td>False</td>\n",
              "      <td>3800</td>\n",
              "    </tr>\n",
              "    <tr>\n",
              "      <th>1</th>\n",
              "      <td>Armenia</td>\n",
              "      <td>87.500000</td>\n",
              "      <td>14.500000</td>\n",
              "      <td>False</td>\n",
              "      <td>True</td>\n",
              "      <td>2</td>\n",
              "    </tr>\n",
              "    <tr>\n",
              "      <th>2</th>\n",
              "      <td>Australia</td>\n",
              "      <td>88.580507</td>\n",
              "      <td>35.437663</td>\n",
              "      <td>True</td>\n",
              "      <td>False</td>\n",
              "      <td>2329</td>\n",
              "    </tr>\n",
              "    <tr>\n",
              "      <th>3</th>\n",
              "      <td>Austria</td>\n",
              "      <td>90.101345</td>\n",
              "      <td>30.762772</td>\n",
              "      <td>False</td>\n",
              "      <td>True</td>\n",
              "      <td>3345</td>\n",
              "    </tr>\n",
              "    <tr>\n",
              "      <th>4</th>\n",
              "      <td>Bosnia and Herzegovina</td>\n",
              "      <td>86.500000</td>\n",
              "      <td>12.500000</td>\n",
              "      <td>False</td>\n",
              "      <td>True</td>\n",
              "      <td>2</td>\n",
              "    </tr>\n",
              "  </tbody>\n",
              "</table>\n",
              "</div>\n",
              "      <button class=\"colab-df-convert\" onclick=\"convertToInteractive('df-e636a944-015a-4d63-a5cf-d7e368ef0a18')\"\n",
              "              title=\"Convert this dataframe to an interactive table.\"\n",
              "              style=\"display:none;\">\n",
              "        \n",
              "  <svg xmlns=\"http://www.w3.org/2000/svg\" height=\"24px\"viewBox=\"0 0 24 24\"\n",
              "       width=\"24px\">\n",
              "    <path d=\"M0 0h24v24H0V0z\" fill=\"none\"/>\n",
              "    <path d=\"M18.56 5.44l.94 2.06.94-2.06 2.06-.94-2.06-.94-.94-2.06-.94 2.06-2.06.94zm-11 1L8.5 8.5l.94-2.06 2.06-.94-2.06-.94L8.5 2.5l-.94 2.06-2.06.94zm10 10l.94 2.06.94-2.06 2.06-.94-2.06-.94-.94-2.06-.94 2.06-2.06.94z\"/><path d=\"M17.41 7.96l-1.37-1.37c-.4-.4-.92-.59-1.43-.59-.52 0-1.04.2-1.43.59L10.3 9.45l-7.72 7.72c-.78.78-.78 2.05 0 2.83L4 21.41c.39.39.9.59 1.41.59.51 0 1.02-.2 1.41-.59l7.78-7.78 2.81-2.81c.8-.78.8-2.07 0-2.86zM5.41 20L4 18.59l7.72-7.72 1.47 1.35L5.41 20z\"/>\n",
              "  </svg>\n",
              "      </button>\n",
              "      \n",
              "  <style>\n",
              "    .colab-df-container {\n",
              "      display:flex;\n",
              "      flex-wrap:wrap;\n",
              "      gap: 12px;\n",
              "    }\n",
              "\n",
              "    .colab-df-convert {\n",
              "      background-color: #E8F0FE;\n",
              "      border: none;\n",
              "      border-radius: 50%;\n",
              "      cursor: pointer;\n",
              "      display: none;\n",
              "      fill: #1967D2;\n",
              "      height: 32px;\n",
              "      padding: 0 0 0 0;\n",
              "      width: 32px;\n",
              "    }\n",
              "\n",
              "    .colab-df-convert:hover {\n",
              "      background-color: #E2EBFA;\n",
              "      box-shadow: 0px 1px 2px rgba(60, 64, 67, 0.3), 0px 1px 3px 1px rgba(60, 64, 67, 0.15);\n",
              "      fill: #174EA6;\n",
              "    }\n",
              "\n",
              "    [theme=dark] .colab-df-convert {\n",
              "      background-color: #3B4455;\n",
              "      fill: #D2E3FC;\n",
              "    }\n",
              "\n",
              "    [theme=dark] .colab-df-convert:hover {\n",
              "      background-color: #434B5C;\n",
              "      box-shadow: 0px 1px 3px 1px rgba(0, 0, 0, 0.15);\n",
              "      filter: drop-shadow(0px 1px 2px rgba(0, 0, 0, 0.3));\n",
              "      fill: #FFFFFF;\n",
              "    }\n",
              "  </style>\n",
              "\n",
              "      <script>\n",
              "        const buttonEl =\n",
              "          document.querySelector('#df-e636a944-015a-4d63-a5cf-d7e368ef0a18 button.colab-df-convert');\n",
              "        buttonEl.style.display =\n",
              "          google.colab.kernel.accessAllowed ? 'block' : 'none';\n",
              "\n",
              "        async function convertToInteractive(key) {\n",
              "          const element = document.querySelector('#df-e636a944-015a-4d63-a5cf-d7e368ef0a18');\n",
              "          const dataTable =\n",
              "            await google.colab.kernel.invokeFunction('convertToInteractive',\n",
              "                                                     [key], {});\n",
              "          if (!dataTable) return;\n",
              "\n",
              "          const docLinkHtml = 'Like what you see? Visit the ' +\n",
              "            '<a target=\"_blank\" href=https://colab.research.google.com/notebooks/data_table.ipynb>data table notebook</a>'\n",
              "            + ' to learn more about interactive tables.';\n",
              "          element.innerHTML = '';\n",
              "          dataTable['output_type'] = 'display_data';\n",
              "          await google.colab.output.renderOutput(dataTable, element);\n",
              "          const docLink = document.createElement('div');\n",
              "          docLink.innerHTML = docLinkHtml;\n",
              "          element.appendChild(docLink);\n",
              "        }\n",
              "      </script>\n",
              "    </div>\n",
              "  </div>\n",
              "  "
            ],
            "text/plain": [
              "                  country     points      price  new_world  old_world  count\n",
              "0               Argentina  86.710263  24.510117       True      False   3800\n",
              "1                 Armenia  87.500000  14.500000      False       True      2\n",
              "2               Australia  88.580507  35.437663       True      False   2329\n",
              "3                 Austria  90.101345  30.762772      False       True   3345\n",
              "4  Bosnia and Herzegovina  86.500000  12.500000      False       True      2"
            ]
          },
          "metadata": {},
          "execution_count": 17
        }
      ],
      "source": [
        "# Creates a smaller dataframe that groups by country\n",
        "country_avg = df[['points','price','country','variety', 'new_world', 'old_world']]\n",
        "country_avg = df.groupby('country').mean()\n",
        "country_avg['count'] = df.groupby('country')['country'].count()\n",
        "# Converts new_world and old_world to boolean for the sake of plotting\n",
        "country_avg['new_world'] = country_avg['new_world'].astype('boolean')\n",
        "country_avg['old_world'] = country_avg['old_world'].astype('boolean')\n",
        "country_avg = country_avg.reset_index()\n",
        "country_avg.head()"
      ]
    },
    {
      "cell_type": "code",
      "execution_count": 18,
      "id": "63da0bdf",
      "metadata": {
        "colab": {
          "base_uri": "https://localhost:8080/",
          "height": 542
        },
        "id": "63da0bdf",
        "outputId": "c3746d56-7c83-4286-da2b-7c4ca9018e96"
      },
      "outputs": [
        {
          "output_type": "display_data",
          "data": {
            "text/html": [
              "<html>\n",
              "<head><meta charset=\"utf-8\" /></head>\n",
              "<body>\n",
              "    <div>            <script src=\"https://cdnjs.cloudflare.com/ajax/libs/mathjax/2.7.5/MathJax.js?config=TeX-AMS-MML_SVG\"></script><script type=\"text/javascript\">if (window.MathJax) {MathJax.Hub.Config({SVG: {font: \"STIX-Web\"}});}</script>                <script type=\"text/javascript\">window.PlotlyConfig = {MathJaxConfig: 'local'};</script>\n",
              "        <script src=\"https://cdn.plot.ly/plotly-2.8.3.min.js\"></script>                <div id=\"f25e1978-6c9d-46aa-8d2b-3eb97c256d67\" class=\"plotly-graph-div\" style=\"height:525px; width:100%;\"></div>            <script type=\"text/javascript\">                                    window.PLOTLYENV=window.PLOTLYENV || {};                                    if (document.getElementById(\"f25e1978-6c9d-46aa-8d2b-3eb97c256d67\")) {                    Plotly.newPlot(                        \"f25e1978-6c9d-46aa-8d2b-3eb97c256d67\",                        [{\"hovertemplate\":\"<b>%{hovertext}</b><br><br>new_world=True<br>price=%{x}<br>points=%{y}<br>count=%{marker.size}<extra></extra>\",\"hovertext\":[\"Argentina\",\"Australia\",\"Brazil\",\"Canada\",\"Chile\",\"China\",\"India\",\"Mexico\",\"New Zealand\",\"Peru\",\"South Africa\",\"US\",\"Uruguay\"],\"legendgroup\":\"True\",\"marker\":{\"color\":\"#636efa\",\"size\":[3800,2329,52,257,4471,1,9,70,1419,16,1401,54504,109],\"sizemode\":\"area\",\"sizeref\":5.4504,\"symbol\":\"circle\"},\"mode\":\"markers\",\"name\":\"True\",\"orientation\":\"v\",\"showlegend\":true,\"x\":[24.510117145899894,35.43766346992153,23.765957446808514,35.71259842519685,20.78731596828992,18.0,13.333333333333334,26.785714285714285,26.93178519593614,18.0625,24.668986852281517,36.5734635584631,26.40366972477064],\"xaxis\":\"x\",\"y\":[86.71026315789474,88.58050665521684,84.67307692307692,89.36964980544747,86.49317825989712,89.0,90.22222222222223,85.25714285714285,88.3030303030303,83.5625,88.05638829407566,88.56372009393806,86.75229357798165],\"yaxis\":\"y\",\"type\":\"scatter\"},{\"hovertemplate\":\"<b>%{hovertext}</b><br><br>new_world=False<br>price=%{x}<br>points=%{y}<br>count=%{marker.size}<extra></extra>\",\"hovertext\":[\"Armenia\",\"Austria\",\"Bosnia and Herzegovina\",\"Bulgaria\",\"Croatia\",\"Cyprus\",\"Czech Republic\",\"England\",\"France\",\"Georgia\",\"Germany\",\"Greece\",\"Hungary\",\"Israel\",\"Italy\",\"Lebanon\",\"Luxembourg\",\"Macedonia\",\"Moldova\",\"Morocco\",\"Portugal\",\"Romania\",\"Serbia\",\"Slovakia\",\"Slovenia\",\"Spain\",\"Switzerland\",\"Turkey\",\"Ukraine\"],\"legendgroup\":\"False\",\"marker\":{\"color\":\"#EF553B\",\"size\":[2,3345,2,141,73,11,12,74,22093,86,2165,466,146,505,19540,35,6,12,59,28,5691,120,12,1,87,6645,7,90,14],\"sizemode\":\"area\",\"sizeref\":5.4504,\"symbol\":\"circle\"},\"mode\":\"markers\",\"name\":\"False\",\"orientation\":\"v\",\"showlegend\":true,\"x\":[14.5,30.76277241872097,12.5,14.645390070921986,25.450704225352112,16.272727272727273,24.25,51.68115942028985,41.1391201620162,19.32142857142857,42.25754716981132,22.364425162689805,40.648275862068964,31.768916155419223,39.66376965827125,30.685714285714287,23.333333333333332,15.583333333333334,16.74576271186441,19.5,26.21825641025641,15.241666666666667,24.5,16.0,24.8125,28.215274608245853,85.28571428571429,24.633333333333333,9.214285714285714],\"xaxis\":\"x\",\"y\":[87.5,90.10134529147982,86.5,87.93617021276596,87.21917808219177,87.18181818181819,87.25,91.58108108108108,88.84510931064138,87.68604651162791,89.85173210161663,87.28326180257511,89.1917808219178,88.47128712871287,88.56223132036847,87.68571428571428,88.66666666666667,86.83333333333333,87.20338983050847,88.57142857142857,88.25021964505359,86.4,87.5,87.0,88.06896551724138,87.28833709556058,88.57142857142857,88.08888888888889,84.07142857142857],\"yaxis\":\"y\",\"type\":\"scatter\"}],                        {\"template\":{\"data\":{\"bar\":[{\"error_x\":{\"color\":\"#2a3f5f\"},\"error_y\":{\"color\":\"#2a3f5f\"},\"marker\":{\"line\":{\"color\":\"#E5ECF6\",\"width\":0.5},\"pattern\":{\"fillmode\":\"overlay\",\"size\":10,\"solidity\":0.2}},\"type\":\"bar\"}],\"barpolar\":[{\"marker\":{\"line\":{\"color\":\"#E5ECF6\",\"width\":0.5},\"pattern\":{\"fillmode\":\"overlay\",\"size\":10,\"solidity\":0.2}},\"type\":\"barpolar\"}],\"carpet\":[{\"aaxis\":{\"endlinecolor\":\"#2a3f5f\",\"gridcolor\":\"white\",\"linecolor\":\"white\",\"minorgridcolor\":\"white\",\"startlinecolor\":\"#2a3f5f\"},\"baxis\":{\"endlinecolor\":\"#2a3f5f\",\"gridcolor\":\"white\",\"linecolor\":\"white\",\"minorgridcolor\":\"white\",\"startlinecolor\":\"#2a3f5f\"},\"type\":\"carpet\"}],\"choropleth\":[{\"colorbar\":{\"outlinewidth\":0,\"ticks\":\"\"},\"type\":\"choropleth\"}],\"contour\":[{\"colorbar\":{\"outlinewidth\":0,\"ticks\":\"\"},\"colorscale\":[[0.0,\"#0d0887\"],[0.1111111111111111,\"#46039f\"],[0.2222222222222222,\"#7201a8\"],[0.3333333333333333,\"#9c179e\"],[0.4444444444444444,\"#bd3786\"],[0.5555555555555556,\"#d8576b\"],[0.6666666666666666,\"#ed7953\"],[0.7777777777777778,\"#fb9f3a\"],[0.8888888888888888,\"#fdca26\"],[1.0,\"#f0f921\"]],\"type\":\"contour\"}],\"contourcarpet\":[{\"colorbar\":{\"outlinewidth\":0,\"ticks\":\"\"},\"type\":\"contourcarpet\"}],\"heatmap\":[{\"colorbar\":{\"outlinewidth\":0,\"ticks\":\"\"},\"colorscale\":[[0.0,\"#0d0887\"],[0.1111111111111111,\"#46039f\"],[0.2222222222222222,\"#7201a8\"],[0.3333333333333333,\"#9c179e\"],[0.4444444444444444,\"#bd3786\"],[0.5555555555555556,\"#d8576b\"],[0.6666666666666666,\"#ed7953\"],[0.7777777777777778,\"#fb9f3a\"],[0.8888888888888888,\"#fdca26\"],[1.0,\"#f0f921\"]],\"type\":\"heatmap\"}],\"heatmapgl\":[{\"colorbar\":{\"outlinewidth\":0,\"ticks\":\"\"},\"colorscale\":[[0.0,\"#0d0887\"],[0.1111111111111111,\"#46039f\"],[0.2222222222222222,\"#7201a8\"],[0.3333333333333333,\"#9c179e\"],[0.4444444444444444,\"#bd3786\"],[0.5555555555555556,\"#d8576b\"],[0.6666666666666666,\"#ed7953\"],[0.7777777777777778,\"#fb9f3a\"],[0.8888888888888888,\"#fdca26\"],[1.0,\"#f0f921\"]],\"type\":\"heatmapgl\"}],\"histogram\":[{\"marker\":{\"pattern\":{\"fillmode\":\"overlay\",\"size\":10,\"solidity\":0.2}},\"type\":\"histogram\"}],\"histogram2d\":[{\"colorbar\":{\"outlinewidth\":0,\"ticks\":\"\"},\"colorscale\":[[0.0,\"#0d0887\"],[0.1111111111111111,\"#46039f\"],[0.2222222222222222,\"#7201a8\"],[0.3333333333333333,\"#9c179e\"],[0.4444444444444444,\"#bd3786\"],[0.5555555555555556,\"#d8576b\"],[0.6666666666666666,\"#ed7953\"],[0.7777777777777778,\"#fb9f3a\"],[0.8888888888888888,\"#fdca26\"],[1.0,\"#f0f921\"]],\"type\":\"histogram2d\"}],\"histogram2dcontour\":[{\"colorbar\":{\"outlinewidth\":0,\"ticks\":\"\"},\"colorscale\":[[0.0,\"#0d0887\"],[0.1111111111111111,\"#46039f\"],[0.2222222222222222,\"#7201a8\"],[0.3333333333333333,\"#9c179e\"],[0.4444444444444444,\"#bd3786\"],[0.5555555555555556,\"#d8576b\"],[0.6666666666666666,\"#ed7953\"],[0.7777777777777778,\"#fb9f3a\"],[0.8888888888888888,\"#fdca26\"],[1.0,\"#f0f921\"]],\"type\":\"histogram2dcontour\"}],\"mesh3d\":[{\"colorbar\":{\"outlinewidth\":0,\"ticks\":\"\"},\"type\":\"mesh3d\"}],\"parcoords\":[{\"line\":{\"colorbar\":{\"outlinewidth\":0,\"ticks\":\"\"}},\"type\":\"parcoords\"}],\"pie\":[{\"automargin\":true,\"type\":\"pie\"}],\"scatter\":[{\"marker\":{\"colorbar\":{\"outlinewidth\":0,\"ticks\":\"\"}},\"type\":\"scatter\"}],\"scatter3d\":[{\"line\":{\"colorbar\":{\"outlinewidth\":0,\"ticks\":\"\"}},\"marker\":{\"colorbar\":{\"outlinewidth\":0,\"ticks\":\"\"}},\"type\":\"scatter3d\"}],\"scattercarpet\":[{\"marker\":{\"colorbar\":{\"outlinewidth\":0,\"ticks\":\"\"}},\"type\":\"scattercarpet\"}],\"scattergeo\":[{\"marker\":{\"colorbar\":{\"outlinewidth\":0,\"ticks\":\"\"}},\"type\":\"scattergeo\"}],\"scattergl\":[{\"marker\":{\"colorbar\":{\"outlinewidth\":0,\"ticks\":\"\"}},\"type\":\"scattergl\"}],\"scattermapbox\":[{\"marker\":{\"colorbar\":{\"outlinewidth\":0,\"ticks\":\"\"}},\"type\":\"scattermapbox\"}],\"scatterpolar\":[{\"marker\":{\"colorbar\":{\"outlinewidth\":0,\"ticks\":\"\"}},\"type\":\"scatterpolar\"}],\"scatterpolargl\":[{\"marker\":{\"colorbar\":{\"outlinewidth\":0,\"ticks\":\"\"}},\"type\":\"scatterpolargl\"}],\"scatterternary\":[{\"marker\":{\"colorbar\":{\"outlinewidth\":0,\"ticks\":\"\"}},\"type\":\"scatterternary\"}],\"surface\":[{\"colorbar\":{\"outlinewidth\":0,\"ticks\":\"\"},\"colorscale\":[[0.0,\"#0d0887\"],[0.1111111111111111,\"#46039f\"],[0.2222222222222222,\"#7201a8\"],[0.3333333333333333,\"#9c179e\"],[0.4444444444444444,\"#bd3786\"],[0.5555555555555556,\"#d8576b\"],[0.6666666666666666,\"#ed7953\"],[0.7777777777777778,\"#fb9f3a\"],[0.8888888888888888,\"#fdca26\"],[1.0,\"#f0f921\"]],\"type\":\"surface\"}],\"table\":[{\"cells\":{\"fill\":{\"color\":\"#EBF0F8\"},\"line\":{\"color\":\"white\"}},\"header\":{\"fill\":{\"color\":\"#C8D4E3\"},\"line\":{\"color\":\"white\"}},\"type\":\"table\"}]},\"layout\":{\"annotationdefaults\":{\"arrowcolor\":\"#2a3f5f\",\"arrowhead\":0,\"arrowwidth\":1},\"autotypenumbers\":\"strict\",\"coloraxis\":{\"colorbar\":{\"outlinewidth\":0,\"ticks\":\"\"}},\"colorscale\":{\"diverging\":[[0,\"#8e0152\"],[0.1,\"#c51b7d\"],[0.2,\"#de77ae\"],[0.3,\"#f1b6da\"],[0.4,\"#fde0ef\"],[0.5,\"#f7f7f7\"],[0.6,\"#e6f5d0\"],[0.7,\"#b8e186\"],[0.8,\"#7fbc41\"],[0.9,\"#4d9221\"],[1,\"#276419\"]],\"sequential\":[[0.0,\"#0d0887\"],[0.1111111111111111,\"#46039f\"],[0.2222222222222222,\"#7201a8\"],[0.3333333333333333,\"#9c179e\"],[0.4444444444444444,\"#bd3786\"],[0.5555555555555556,\"#d8576b\"],[0.6666666666666666,\"#ed7953\"],[0.7777777777777778,\"#fb9f3a\"],[0.8888888888888888,\"#fdca26\"],[1.0,\"#f0f921\"]],\"sequentialminus\":[[0.0,\"#0d0887\"],[0.1111111111111111,\"#46039f\"],[0.2222222222222222,\"#7201a8\"],[0.3333333333333333,\"#9c179e\"],[0.4444444444444444,\"#bd3786\"],[0.5555555555555556,\"#d8576b\"],[0.6666666666666666,\"#ed7953\"],[0.7777777777777778,\"#fb9f3a\"],[0.8888888888888888,\"#fdca26\"],[1.0,\"#f0f921\"]]},\"colorway\":[\"#636efa\",\"#EF553B\",\"#00cc96\",\"#ab63fa\",\"#FFA15A\",\"#19d3f3\",\"#FF6692\",\"#B6E880\",\"#FF97FF\",\"#FECB52\"],\"font\":{\"color\":\"#2a3f5f\"},\"geo\":{\"bgcolor\":\"white\",\"lakecolor\":\"white\",\"landcolor\":\"#E5ECF6\",\"showlakes\":true,\"showland\":true,\"subunitcolor\":\"white\"},\"hoverlabel\":{\"align\":\"left\"},\"hovermode\":\"closest\",\"mapbox\":{\"style\":\"light\"},\"paper_bgcolor\":\"white\",\"plot_bgcolor\":\"#E5ECF6\",\"polar\":{\"angularaxis\":{\"gridcolor\":\"white\",\"linecolor\":\"white\",\"ticks\":\"\"},\"bgcolor\":\"#E5ECF6\",\"radialaxis\":{\"gridcolor\":\"white\",\"linecolor\":\"white\",\"ticks\":\"\"}},\"scene\":{\"xaxis\":{\"backgroundcolor\":\"#E5ECF6\",\"gridcolor\":\"white\",\"gridwidth\":2,\"linecolor\":\"white\",\"showbackground\":true,\"ticks\":\"\",\"zerolinecolor\":\"white\"},\"yaxis\":{\"backgroundcolor\":\"#E5ECF6\",\"gridcolor\":\"white\",\"gridwidth\":2,\"linecolor\":\"white\",\"showbackground\":true,\"ticks\":\"\",\"zerolinecolor\":\"white\"},\"zaxis\":{\"backgroundcolor\":\"#E5ECF6\",\"gridcolor\":\"white\",\"gridwidth\":2,\"linecolor\":\"white\",\"showbackground\":true,\"ticks\":\"\",\"zerolinecolor\":\"white\"}},\"shapedefaults\":{\"line\":{\"color\":\"#2a3f5f\"}},\"ternary\":{\"aaxis\":{\"gridcolor\":\"white\",\"linecolor\":\"white\",\"ticks\":\"\"},\"baxis\":{\"gridcolor\":\"white\",\"linecolor\":\"white\",\"ticks\":\"\"},\"bgcolor\":\"#E5ECF6\",\"caxis\":{\"gridcolor\":\"white\",\"linecolor\":\"white\",\"ticks\":\"\"}},\"title\":{\"x\":0.05},\"xaxis\":{\"automargin\":true,\"gridcolor\":\"white\",\"linecolor\":\"white\",\"ticks\":\"\",\"title\":{\"standoff\":15},\"zerolinecolor\":\"white\",\"zerolinewidth\":2},\"yaxis\":{\"automargin\":true,\"gridcolor\":\"white\",\"linecolor\":\"white\",\"ticks\":\"\",\"title\":{\"standoff\":15},\"zerolinecolor\":\"white\",\"zerolinewidth\":2}}},\"xaxis\":{\"anchor\":\"y\",\"domain\":[0.0,1.0],\"title\":{\"text\":\"price\"},\"range\":[0,60]},\"yaxis\":{\"anchor\":\"x\",\"domain\":[0.0,1.0],\"title\":{\"text\":\"points\"},\"range\":[84,92]},\"legend\":{\"title\":{\"text\":\"new_world\"},\"tracegroupgap\":0,\"itemsizing\":\"constant\"},\"margin\":{\"t\":60}},                        {\"responsive\": true}                    ).then(function(){\n",
              "                            \n",
              "var gd = document.getElementById('f25e1978-6c9d-46aa-8d2b-3eb97c256d67');\n",
              "var x = new MutationObserver(function (mutations, observer) {{\n",
              "        var display = window.getComputedStyle(gd).display;\n",
              "        if (!display || display === 'none') {{\n",
              "            console.log([gd, 'removed!']);\n",
              "            Plotly.purge(gd);\n",
              "            observer.disconnect();\n",
              "        }}\n",
              "}});\n",
              "\n",
              "// Listen for the removal of the full notebook cells\n",
              "var notebookContainer = gd.closest('#notebook-container');\n",
              "if (notebookContainer) {{\n",
              "    x.observe(notebookContainer, {childList: true});\n",
              "}}\n",
              "\n",
              "// Listen for the clearing of the current output cell\n",
              "var outputEl = gd.closest('.output');\n",
              "if (outputEl) {{\n",
              "    x.observe(outputEl, {childList: true});\n",
              "}}\n",
              "\n",
              "                        })                };                            </script>        </div>\n",
              "</body>\n",
              "</html>"
            ]
          },
          "metadata": {}
        }
      ],
      "source": [
        "# Creates an interactive Plotly Express plot\n",
        "fig = px.scatter(country_avg, \n",
        "                 x='price', \n",
        "                 y='points',\n",
        "                 size='count', \n",
        "                 hover_name='country',\n",
        "                 color='new_world',\n",
        "                 size_max=100)\n",
        "fig.update_xaxes(range=[0, 60])\n",
        "fig.update_yaxes(range=[84, 92])\n",
        "fig.show()"
      ]
    },
    {
      "cell_type": "markdown",
      "id": "c5daa1ac",
      "metadata": {
        "id": "c5daa1ac"
      },
      "source": [
        "## Initial linear regression"
      ]
    },
    {
      "cell_type": "code",
      "execution_count": 19,
      "id": "0945d38f",
      "metadata": {
        "id": "0945d38f"
      },
      "outputs": [],
      "source": [
        "df_reg = df[['points','price','new_world', 'old_world']]"
      ]
    },
    {
      "cell_type": "code",
      "execution_count": 20,
      "id": "90031bfc",
      "metadata": {
        "id": "90031bfc"
      },
      "outputs": [],
      "source": [
        "# Define X and y\n",
        "X = df_reg[['points', 'new_world', 'old_world']]\n",
        "y = df_reg['price']"
      ]
    },
    {
      "cell_type": "code",
      "execution_count": 21,
      "id": "4cd16bac",
      "metadata": {
        "id": "4cd16bac"
      },
      "outputs": [],
      "source": [
        "# We'll use a 70/30 train/test split\n",
        "X_train, X_test, y_train, y_test = train_test_split(X, y, test_size=0.3, random_state=42)"
      ]
    },
    {
      "cell_type": "code",
      "source": [
        "# We'll use the RobustScaler because it is less sensitive to outliers\n",
        "scaler = RobustScaler()\n",
        "X_train = pd.DataFrame(scaler.fit_transform(X_train))"
      ],
      "metadata": {
        "id": "q6M0g1sO8syW"
      },
      "id": "q6M0g1sO8syW",
      "execution_count": 22,
      "outputs": []
    },
    {
      "cell_type": "code",
      "execution_count": 23,
      "id": "3bdd7e41",
      "metadata": {
        "colab": {
          "base_uri": "https://localhost:8080/"
        },
        "id": "3bdd7e41",
        "outputId": "89a41bd9-7d57-4a5d-9bcf-09e065bd1bd9"
      },
      "outputs": [
        {
          "output_type": "execute_result",
          "data": {
            "text/plain": [
              "LinearRegression()"
            ]
          },
          "metadata": {},
          "execution_count": 23
        }
      ],
      "source": [
        "# Fit the model on scaled training data\n",
        "model = LinearRegression()\n",
        "model.fit(X_train, y_train)"
      ]
    },
    {
      "cell_type": "code",
      "execution_count": 24,
      "id": "6da8fb19",
      "metadata": {
        "colab": {
          "base_uri": "https://localhost:8080/"
        },
        "id": "6da8fb19",
        "outputId": "c568f5ed-2b93-4f2c-e38d-9e9a375ec7c4"
      },
      "outputs": [
        {
          "output_type": "stream",
          "name": "stdout",
          "text": [
            "The training score is 0.16\n"
          ]
        }
      ],
      "source": [
        "train_score = model.score(X_train, y_train)\n",
        "print('The training score is {:.2f}'.format(train_score))"
      ]
    },
    {
      "cell_type": "code",
      "source": [
        "# Transform X_test after the train-test split to avoid data leakage\n",
        "X_test = scaler.transform(X_test)"
      ],
      "metadata": {
        "id": "LSB76r_K9qpu"
      },
      "id": "LSB76r_K9qpu",
      "execution_count": 25,
      "outputs": []
    },
    {
      "cell_type": "code",
      "execution_count": 26,
      "id": "86225192",
      "metadata": {
        "colab": {
          "base_uri": "https://localhost:8080/"
        },
        "id": "86225192",
        "outputId": "ea20ee32-5817-45aa-f2aa-3d3df8b82c90"
      },
      "outputs": [
        {
          "output_type": "stream",
          "name": "stdout",
          "text": [
            "The test score is 0.18\n"
          ]
        }
      ],
      "source": [
        "test_score = model.score(X_test, y_test)\n",
        "print('The test score is {:.2f}'.format(test_score))"
      ]
    },
    {
      "cell_type": "markdown",
      "id": "3a6a28ae",
      "metadata": {
        "id": "3a6a28ae"
      },
      "source": [
        "We're able to predict about 18% of the variance in price by using only points and its new world/old world classification!"
      ]
    },
    {
      "cell_type": "markdown",
      "id": "ea18c57f",
      "metadata": {
        "id": "ea18c57f"
      },
      "source": [
        "## A bit of NLP"
      ]
    },
    {
      "cell_type": "markdown",
      "id": "fc3550bf",
      "metadata": {
        "id": "fc3550bf"
      },
      "source": [
        "### Preprocessing reviews"
      ]
    },
    {
      "cell_type": "code",
      "execution_count": 27,
      "id": "8fbe02ca",
      "metadata": {
        "colab": {
          "base_uri": "https://localhost:8080/"
        },
        "id": "8fbe02ca",
        "outputId": "4083324c-a020-47c9-ca34-9d483f61632e"
      },
      "outputs": [
        {
          "output_type": "stream",
          "name": "stdout",
          "text": [
            "Dusty aromas come with notes of ham and tropical fruits. This is more blah than focused. Tropical fruits, grapefruit and pickle brine comprise the flavors prior to a salty, slightly green finish.\n",
            "\n",
            "This is produced from Cabernet Franc grown on the plateau south of Saumur. Red fruits are cut with a crisper texture, with a hint of tannins as well as attractive acidity. Drink now.\n",
            "\n",
            "Gritty, roasted berry aromas are rubbery and hint at Band-Aids. In the mouth, this is O.K. in feel, albeit a bit jammy and thick. Short, generic berry flavors come with minty accents and some green on the finish.\n",
            "\n",
            "This ripasso shows typical aromas of plum and prune, with earthy notes of turned soil. The palate offers ripe yet retrained raspberry and strawberry sensations, along with bitter almond and baking spice accents. It's straightforward, fresh and enjoyable.\n",
            "\n",
            "Beautifully aromatic with dainty white peach, apricot and grapefruit notes, Ventosa's Tocai Friulano is a luscious, fruity white perfect for casual spring entertaining. On the palate, ripe honeydew flavors are balanced by hints of freshly cut herbs and grass and a pleasant minerality.\n",
            "\n"
          ]
        }
      ],
      "source": [
        "# Let's print a few example reviews to better understand the text data\n",
        "rand_five = np.random.randint(low=0, high=len(df['description']), size=5)\n",
        "for i in range(len(rand_five)):\n",
        "    print(f\"{df['description'][rand_five[i]]}\\n\")"
      ]
    },
    {
      "cell_type": "code",
      "execution_count": 28,
      "id": "b3a6cc3c",
      "metadata": {
        "id": "b3a6cc3c"
      },
      "outputs": [],
      "source": [
        "# Make reviews lowercase\n",
        "df['clean'] = df['description'].str.lower()"
      ]
    },
    {
      "cell_type": "code",
      "source": [
        "# Remove punctuation\n",
        "def remove_punctuation(text):\n",
        "    for punctuation in string.punctuation:\n",
        "        text = text.replace(punctuation, '')\n",
        "    return text\n",
        "\n",
        "df['clean'] = df['clean'].apply(remove_punctuation)"
      ],
      "metadata": {
        "id": "QYaaXAg-ESKg"
      },
      "id": "QYaaXAg-ESKg",
      "execution_count": 29,
      "outputs": []
    },
    {
      "cell_type": "code",
      "source": [
        "df['clean'][0]"
      ],
      "metadata": {
        "colab": {
          "base_uri": "https://localhost:8080/",
          "height": 35
        },
        "id": "S3UnkCOwFkKj",
        "outputId": "0f7b98dc-296c-4cab-e48b-077321a612e9"
      },
      "id": "S3UnkCOwFkKj",
      "execution_count": 30,
      "outputs": [
        {
          "output_type": "execute_result",
          "data": {
            "application/vnd.google.colaboratory.intrinsic+json": {
              "type": "string"
            },
            "text/plain": [
              "'aromas include tropical fruit broom brimstone and dried herb the palate isnt overly expressive offering unripened apple citrus and dried sage alongside brisk acidity'"
            ]
          },
          "metadata": {},
          "execution_count": 30
        }
      ]
    },
    {
      "cell_type": "code",
      "source": [
        "# Installs essential NLTK libraries\n",
        "import nltk\n",
        "nltk.download('stopwords')\n",
        "nltk.download('punkt')\n",
        "nltk.download('wordnet')"
      ],
      "metadata": {
        "colab": {
          "base_uri": "https://localhost:8080/"
        },
        "id": "IK5Cy-H4GUID",
        "outputId": "bf2b8bd3-9f48-4d5c-df5f-b1715d6b423d"
      },
      "id": "IK5Cy-H4GUID",
      "execution_count": 31,
      "outputs": [
        {
          "output_type": "stream",
          "name": "stdout",
          "text": [
            "[nltk_data] Downloading package stopwords to /root/nltk_data...\n",
            "[nltk_data]   Package stopwords is already up-to-date!\n",
            "[nltk_data] Downloading package punkt to /root/nltk_data...\n",
            "[nltk_data]   Package punkt is already up-to-date!\n",
            "[nltk_data] Downloading package wordnet to /root/nltk_data...\n",
            "[nltk_data]   Package wordnet is already up-to-date!\n"
          ]
        },
        {
          "output_type": "execute_result",
          "data": {
            "text/plain": [
              "True"
            ]
          },
          "metadata": {},
          "execution_count": 31
        }
      ]
    },
    {
      "cell_type": "code",
      "source": [
        "# Tokenize reviews and remove stopwords\n",
        "# Stopwords are words that are so common that they are meaningless in topic analysis\n",
        "stop_words = set(stopwords.words('english')) \n",
        "\n",
        "def remove_stopwords (text):\n",
        "    tokenized = word_tokenize(text)\n",
        "    without_stopwords = [word for word in tokenized if not word in stop_words]\n",
        "    return without_stopwords\n",
        "\n",
        "# df['clean'] = df['clean'].apply(remove_stopwords)"
      ],
      "metadata": {
        "id": "GH9x_tGcFzA3"
      },
      "id": "GH9x_tGcFzA3",
      "execution_count": 32,
      "outputs": []
    },
    {
      "cell_type": "code",
      "source": [
        "df['clean'][0]"
      ],
      "metadata": {
        "colab": {
          "base_uri": "https://localhost:8080/",
          "height": 35
        },
        "id": "f4mUYQRxGxyj",
        "outputId": "57b4fca7-3e38-4030-9b90-4b8fa53952a9"
      },
      "id": "f4mUYQRxGxyj",
      "execution_count": 33,
      "outputs": [
        {
          "output_type": "execute_result",
          "data": {
            "application/vnd.google.colaboratory.intrinsic+json": {
              "type": "string"
            },
            "text/plain": [
              "'aromas include tropical fruit broom brimstone and dried herb the palate isnt overly expressive offering unripened apple citrus and dried sage alongside brisk acidity'"
            ]
          },
          "metadata": {},
          "execution_count": 33
        }
      ]
    },
    {
      "cell_type": "code",
      "source": [
        "# Overwrites X and y from the linear regression\n",
        "# For now, our only feature is the description\n",
        "X = df['clean']\n",
        "y = df['price']"
      ],
      "metadata": {
        "id": "DQqlpsKRt99p"
      },
      "id": "DQqlpsKRt99p",
      "execution_count": 34,
      "outputs": []
    },
    {
      "cell_type": "markdown",
      "source": [
        "Topic analysis with Latent Dirichlet Allocation (LDA)"
      ],
      "metadata": {
        "id": "kARYzHvaOsUX"
      },
      "id": "kARYzHvaOsUX"
    },
    {
      "cell_type": "code",
      "source": [
        "# Vectorizer uses the custom remove_stopwords function from earlier\n",
        "vectorizer = CountVectorizer(tokenizer=remove_stopwords)\n",
        "X = vectorizer.fit_transform(X)"
      ],
      "metadata": {
        "id": "RSCCv4i-QmYZ"
      },
      "id": "RSCCv4i-QmYZ",
      "execution_count": 35,
      "outputs": []
    },
    {
      "cell_type": "code",
      "source": [
        "# Instantiates and fits an LDA model with 20 components\n",
        "lda_model = LatentDirichletAllocation(n_components=20).fit(X)"
      ],
      "metadata": {
        "id": "V4HXI5cySA9p"
      },
      "id": "V4HXI5cySA9p",
      "execution_count": 36,
      "outputs": []
    },
    {
      "cell_type": "code",
      "source": [
        "# Prints topics\n",
        "def print_topics(model, vectorizer):\n",
        "    for idx, topic in enumerate(model.components_):\n",
        "        print(\"Topic %d:\" % (idx))\n",
        "        print([(vectorizer.get_feature_names()[i], topic[i])\n",
        "                        for i in topic.argsort()[:-10 - 1:-1]])"
      ],
      "metadata": {
        "id": "YWd1R9_EO59b"
      },
      "id": "YWd1R9_EO59b",
      "execution_count": 37,
      "outputs": []
    },
    {
      "cell_type": "code",
      "source": [
        "print_topics(lda_model, vectorizer)"
      ],
      "metadata": {
        "colab": {
          "base_uri": "https://localhost:8080/"
        },
        "id": "PM3p7a6kSRAD",
        "outputId": "1517ab00-b913-478f-b299-3b829e055ae8"
      },
      "id": "PM3p7a6kSRAD",
      "execution_count": 38,
      "outputs": [
        {
          "output_type": "stream",
          "name": "stdout",
          "text": [
            "Topic 0:\n"
          ]
        },
        {
          "output_type": "stream",
          "name": "stderr",
          "text": [
            "/usr/local/lib/python3.7/dist-packages/sklearn/utils/deprecation.py:87: FutureWarning:\n",
            "\n",
            "Function get_feature_names is deprecated; get_feature_names is deprecated in 1.0 and will be removed in 1.2. Please use get_feature_names_out instead.\n",
            "\n"
          ]
        },
        {
          "output_type": "stream",
          "name": "stdout",
          "text": [
            "[('wine', 3225.6401553046167), ('flavors', 2837.1880444893372), ('like', 2582.641675653997), ('sweet', 1869.2343102222953), ('rich', 1856.7642726507443), ('color', 1653.67367005929), ('ripe', 1619.543218443909), ('tastes', 1554.9640438381102), ('texture', 1391.9449344377122), ('almost', 1383.7258109620602)]\n",
            "Topic 1:\n",
            "[('wine', 2438.860476823111), ('pair', 1867.8269606656384), ('would', 1193.5023234780354), ('bright', 1183.5849021268687), ('blend', 1124.1394468202843), ('fruit', 1032.4723747389648), ('aromas', 963.3851296119512), ('expression', 868.4805600759822), ('almond', 819.6840746183002), ('tones', 819.2722731962856)]\n",
            "Topic 2:\n",
            "[('flavors', 12291.766423777208), ('aromas', 10623.743595791066), ('finish', 10387.767795909356), ('palate', 6547.367193960458), ('berry', 6463.631947495259), ('plum', 5523.083506122649), ('herbal', 3963.164855593021), ('feels', 3319.3619361607953), ('notes', 3089.0529747738365), ('oak', 2980.8088564843024)]\n",
            "Topic 3:\n",
            "[('oak', 2673.6054284761626), ('wine', 2662.0051228138254), ('new', 2627.031399935918), ('vineyard', 1954.1629321280839), ('fruit', 1863.7315245286513), ('french', 1858.2822115936328), ('aged', 1719.2294836284552), ('one', 1346.6513628429625), ('grapes', 1165.952826548973), ('months', 1067.497983655708)]\n",
            "Topic 4:\n",
            "[('nose', 4348.693723948748), ('palate', 3959.674364649643), ('black', 2930.7199441661937), ('aromas', 2063.6809537139043), ('bottling', 2001.6460283280226), ('flavors', 1940.6341127321934), ('cherry', 1838.0502088481717), ('dried', 1778.9720372231598), ('fruit', 1493.8704241422843), ('red', 1467.1978621526325)]\n",
            "Topic 5:\n",
            "[('flavors', 3905.793938864326), ('wine', 3326.2199431603476), ('chardonnay', 3027.093175788878), ('acidity', 2729.8057182675398), ('toast', 2675.8273228582907), ('rich', 2210.7350735963805), ('fruit', 2109.7638000068646), ('vanilla', 1780.2944884155263), ('ripe', 1778.2875415382978), ('pineapple', 1715.2011635236631)]\n",
            "Topic 6:\n",
            "[('wine', 4375.022069998405), ('spice', 3587.788629529727), ('cherry', 3547.2265740544426), ('flavors', 3472.7177224621114), ('fruit', 2892.4707709435665), ('aromas', 2404.599140716407), ('blackberry', 2012.9012064684844), ('soft', 1831.5068144356321), ('black', 1824.6765832021972), ('red', 1744.313155387012)]\n",
            "Topic 7:\n",
            "[('palate', 4210.979959769361), ('nose', 2564.6016975588745), ('freshness', 2531.8585751362853), ('fruit', 2012.1254427522538), ('notes', 1937.3478407983926), ('fresh', 1681.6065802140904), ('finish', 1531.200046430494), ('ripe', 1449.2167953110516), ('lemon', 1252.8772236545572), ('dry', 1243.611195790329)]\n",
            "Topic 8:\n",
            "[('fruit', 5082.890820004157), ('wine', 2623.7559601566863), ('flavors', 1804.752080878968), ('cherry', 1751.6248202573981), ('finish', 1714.8582135106883), ('tannins', 1474.8597218731045), ('years', 1241.5596321569553), ('time', 1108.5627480894693), ('bottle', 976.6846503121634), ('tight', 940.2315914906072)]\n",
            "Topic 9:\n",
            "[('palate', 3938.1834836555145), ('aromas', 3841.936334556948), ('tannins', 2953.9380577508314), ('oak', 2201.8280099086364), ('dried', 2180.634098534886), ('black', 1913.1883506658728), ('offers', 1869.3395898542144), ('fruit', 1868.2515299240024), ('cherry', 1776.9441099473142), ('espresso', 1680.1619041644228)]\n",
            "Topic 10:\n",
            "[('wine', 22026.48625660321), ('drink', 8900.353804067074), ('tannins', 8897.250701802168), ('fruits', 7272.554735014947), ('ripe', 7064.016444960755), ('fruit', 6709.491565792273), ('acidity', 6638.934538984925), ('rich', 5114.464706325571), ('wood', 4208.146586950976), ('structure', 4152.148480530791)]\n",
            "Topic 11:\n",
            "[('wine', 6751.535772670453), ('finish', 4403.886362750345), ('black', 3809.549221181147), ('cherry', 3249.4443221173956), ('oak', 2630.866850488853), ('fruit', 2478.8168428121735), ('tannins', 2471.3225938282317), ('texture', 2240.6017988719077), ('palate', 2079.535150251591), ('soft', 1924.0392553689283)]\n",
            "Topic 12:\n",
            "[('palate', 7893.071198877784), ('aromas', 7329.50118107544), ('finish', 7071.7164582216365), ('apple', 6568.480531314805), ('peach', 6517.371800534509), ('white', 6467.3758075458545), ('flavors', 6421.876519011803), ('acidity', 6107.256137064057), ('citrus', 5647.866017833063), ('fruit', 4897.370540497396)]\n",
            "Topic 13:\n",
            "[('flavors', 6149.230759823103), ('pinot', 3908.586523147143), ('sweet', 2954.292208957987), ('wine', 2784.639058896577), ('dry', 2702.3383579386405), ('noir', 2293.3246265480334), ('acidity', 1985.7631488057812), ('simple', 1821.20717914439), ('cherry', 1658.2144761670763), ('little', 1650.719368281651)]\n",
            "Topic 14:\n",
            "[('wine', 12980.32069835703), ('acidity', 8597.476404439134), ('crisp', 6492.697359540718), ('drink', 5655.611173799525), ('fresh', 5165.216951673841), ('fruity', 5025.435834174117), ('flavors', 4446.850092263694), ('light', 4297.054583326664), ('soft', 3433.593824316991), ('bright', 3385.708205450561)]\n",
            "Topic 15:\n",
            "[('flavors', 4975.664965434742), ('wine', 3997.309326293391), ('tannins', 3607.7027234209204), ('years', 3007.556333786596), ('dry', 2915.7852194348675), ('oak', 2859.3999629249297), ('drink', 2524.9055397724696), ('rich', 2375.5998047480116), ('blackberry', 2299.643084797848), ('black', 2123.814303386459)]\n",
            "Topic 16:\n",
            "[('lemon', 2862.369551675546), ('apple', 2523.736353922348), ('palate', 1896.8462116756054), ('nose', 1855.3137121416717), ('flavors', 1705.3476765729204), ('lime', 1684.0111212585448), ('pear', 1547.7436119059453), ('aromas', 1284.1981879588784), ('wine', 1078.8093118236516), ('white', 919.6072407466613)]\n",
            "Topic 17:\n",
            "[('notes', 1830.7358574165166), ('blanc', 1435.2214822482483), ('finish', 1423.5487873301388), ('drink', 1387.176015952998), ('sauvignon', 1136.264030201913), ('hints', 1067.1377466781553), ('flavors', 1036.301544705822), ('fruit', 973.6808200441479), ('slightly', 902.3389571730612), ('mediumbodied', 891.4809829232465)]\n",
            "Topic 18:\n",
            "[('cherry', 6373.157016517553), ('tannins', 5992.258692846881), ('palate', 5768.914714336966), ('aromas', 4987.2396638975715), ('black', 4593.336782990664), ('berry', 3935.7305176570335), ('red', 3813.4353036416674), ('drink', 3144.7907133933977), ('spice', 2859.0834820905575), ('pepper', 2723.814887704456)]\n",
            "Topic 19:\n",
            "[('cabernet', 8001.346782192618), ('blend', 6812.9790911169275), ('sauvignon', 4972.088878729851), ('flavors', 4741.202925896328), ('merlot', 4541.611912347569), ('aromas', 3937.661083380903), ('fruit', 3671.375879198795), ('syrah', 3447.86631632603), ('franc', 2817.9169595949793), ('cherry', 2203.955981709319)]\n"
          ]
        }
      ]
    },
    {
      "cell_type": "code",
      "source": [
        "def plot_top_words(model, feature_names, n_top_words, title):\n",
        "    fig, axes = plt.subplots(4, 5, figsize=(60, 15), sharex=True)\n",
        "    axes = axes.flatten()\n",
        "    for topic_idx, topic in enumerate(model.components_):\n",
        "        top_features_ind = topic.argsort()[: -n_top_words - 1 : -1]\n",
        "        top_features = [feature_names[i] for i in top_features_ind]\n",
        "        weights = topic[top_features_ind]\n",
        "\n",
        "        ax = axes[topic_idx]\n",
        "        ax.barh(top_features, weights, height=0.7)\n",
        "        ax.set_title(f\"Topic {topic_idx +1}\", fontdict={\"fontsize\": 30})\n",
        "        ax.invert_yaxis()\n",
        "        ax.tick_params(axis=\"both\", which=\"major\", labelsize=20)\n",
        "        for i in \"top right left\".split():\n",
        "            ax.spines[i].set_visible(False)\n",
        "        fig.suptitle(title, fontsize=40)\n",
        "\n",
        "    plt.subplots_adjust(top=0.90, bottom=0.05, wspace=0.90, hspace=0.3)\n",
        "    plt.show()"
      ],
      "metadata": {
        "id": "fK1b9lS7ruFt"
      },
      "id": "fK1b9lS7ruFt",
      "execution_count": 39,
      "outputs": []
    },
    {
      "cell_type": "code",
      "source": [
        "n_components = 20\n",
        "n_top_words = 10\n",
        "feature_names = vectorizer.get_feature_names_out()\n",
        "plot_top_words(lda_model, feature_names, n_top_words, \"Topics Across LDA Components\")"
      ],
      "metadata": {
        "colab": {
          "base_uri": "https://localhost:8080/",
          "height": 411
        },
        "id": "K6jRFYPkrxPd",
        "outputId": "a7007e71-0114-458e-9698-1bee906474c3"
      },
      "id": "K6jRFYPkrxPd",
      "execution_count": 43,
      "outputs": [
        {
          "output_type": "display_data",
          "data": {
            "image/png": "[encoded data removed]",
            "text/plain": [
              "<Figure size 4320x1080 with 20 Axes>"
            ]
          },
          "metadata": {
            "needs_background": "light"
          }
        }
      ]
    }
  ],
  "metadata": {
    "kernelspec": {
      "display_name": "Python 3 (ipykernel)",
      "language": "python",
      "name": "python3"
    },
    "language_info": {
      "codemirror_mode": {
        "name": "ipython",
        "version": 3
      },
      "file_extension": ".py",
      "mimetype": "text/x-python",
      "name": "python",
      "nbconvert_exporter": "python",
      "pygments_lexer": "ipython3",
      "version": "3.8.12"
    },
    "toc": {
      "base_numbering": 1,
      "nav_menu": {},
      "number_sections": true,
      "sideBar": true,
      "skip_h1_title": false,
      "title_cell": "Table of Contents",
      "title_sidebar": "Contents",
      "toc_cell": false,
      "toc_position": {},
      "toc_section_display": true,
      "toc_window_display": false
    },
    "colab": {
      "name": "wine_tasting_reviews.ipynb",
      "provenance": [],
      "collapsed_sections": []
    }
  },
  "nbformat": 4,
  "nbformat_minor": 5
}